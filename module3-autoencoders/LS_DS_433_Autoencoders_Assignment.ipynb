{
  "nbformat": 4,
  "nbformat_minor": 0,
  "metadata": {
    "colab": {
      "name": "LS_DS_433_Autoencoders_Assignment.ipynb",
      "provenance": [],
      "collapsed_sections": [
        "6u3Ezshry1-7",
        "rh3ZU5u_y8dV",
        "z6gn5dSvzAOe",
        "mlLcZmzOzEsK",
        "k-JDFvo6zJdO",
        "eAfpZz3tzOzM",
        "cY9TV5D-zUfi"
      ],
      "authorship_tag": "ABX9TyN1RdU+USLpwHjgBwWA1UXV",
      "include_colab_link": true
    },
    "kernelspec": {
      "name": "python3",
      "display_name": "Python 3"
    }
  },
  "cells": [
    {
      "cell_type": "markdown",
      "metadata": {
        "id": "view-in-github",
        "colab_type": "text"
      },
      "source": [
        "<a href=\"https://colab.research.google.com/github/jacobpad/DS-Unit-4-Sprint-3-Deep-Learning/blob/master/module3-autoencoders/LS_DS_433_Autoencoders_Assignment.ipynb\" target=\"_parent\"><img src=\"https://colab.research.google.com/assets/colab-badge.svg\" alt=\"Open In Colab\"/></a>"
      ]
    },
    {
      "cell_type": "markdown",
      "metadata": {
        "id": "NK7dpVOhymDY",
        "colab_type": "text"
      },
      "source": [
        "# Today's Assignment\n",
        "[Github](https://github.com/jacobpad/DS-Unit-4-Sprint-3-Deep-Learning/blob/master/module3-autoencoders/LS_DS_433_Autoencoders_Assignment.md) link to asignment."
      ]
    },
    {
      "cell_type": "markdown",
      "metadata": {
        "id": "ur0d5scOysjP",
        "colab_type": "text"
      },
      "source": [
        "Read About the History of General Artificial Intelligence Research, the future of AGI, and modern AI safety concerns. Write down your thoughts in the form of two-three questions you would ask your classmates. Please review the following resources:"
      ]
    },
    {
      "cell_type": "markdown",
      "metadata": {
        "id": "6u3Ezshry1-7",
        "colab_type": "text"
      },
      "source": [
        "## [History of Artificial Intelligence](http://sitn.hms.harvard.edu/flash/2017/history-artificial-intelligence/)"
      ]
    },
    {
      "cell_type": "markdown",
      "metadata": {
        "id": "faRE5fv9zrbI",
        "colab_type": "text"
      },
      "source": [
        "### Can Machines Think?"
      ]
    },
    {
      "cell_type": "markdown",
      "metadata": {
        "id": "i_CZnbr-2JdM",
        "colab_type": "text"
      },
      "source": [
        "Machines get to the point where they have the ability to have the potential to do AI and cool things.\n",
        "\n",
        "[Alan Turing](https://en.wikipedia.org/wiki/Alan_Turing) \n",
        "- The father of theoretical computer science and artificial intelligence.\n",
        "- Turing played a crucial role in cracking intercepted coded messages that enabled the Allies to defeat the Nazis in many crucial engagements, including the Battle of the Atlantic, and in so doing helped win the war.\n",
        "\n",
        "The Wizard of Oz (1939 film)  \n",
        "- A film where the Tin Man had resembelence of (what was then thought of as) Artificial Intelligence\n",
        "\n"
      ]
    },
    {
      "cell_type": "markdown",
      "metadata": {
        "id": "cZJiFmDY8GTV",
        "colab_type": "text"
      },
      "source": [
        "### Making the Pursuit Possible"
      ]
    },
    {
      "cell_type": "markdown",
      "metadata": {
        "id": "_qCQ3lHN8JHh",
        "colab_type": "text"
      },
      "source": [
        "- Before 1949 computers lacked a key prerequisite for intelligence: they couldn’t store commands, only execute them.\n",
        "\n",
        "- In the early 1950s, the cost of leasing a computer ran up to $200,000 a month."
      ]
    },
    {
      "cell_type": "markdown",
      "metadata": {
        "id": "L_PduDXo8y8G",
        "colab_type": "text"
      },
      "source": [
        "### The Conference that Started it All"
      ]
    },
    {
      "cell_type": "markdown",
      "metadata": {
        "id": "x7ugFJ4I81_j",
        "colab_type": "text"
      },
      "source": [
        "- Considered the first AI program, [Logic Theorist](https://history-computer.com/ModernComputer/Software/LogicTheorist.html) was a program designed to mimic the problem solving skills of a human and was funded by Research and Development (RAND) Corporation. \n",
        "\n",
        "- Everyone whole-heartedly aligned with the sentiment that AI was achievable."
      ]
    },
    {
      "cell_type": "markdown",
      "metadata": {
        "id": "_3mt0s6n97Qm",
        "colab_type": "text"
      },
      "source": [
        "### Roller Coaster of Success and Setbacks"
      ]
    },
    {
      "cell_type": "markdown",
      "metadata": {
        "id": "u27Gbg_y99v2",
        "colab_type": "text"
      },
      "source": [
        "- Computers became much more advanced.\n",
        "\n",
        "- In 1970 Marvin Minsky told Life Magazine, “from three to eight years we will have a machine with the general intelligence of an average human being.”\n",
        "\n",
        "- The biggest was the lack of computational power to do anything substantial: computers simply couldn’t store enough information or process it fast enough. In order to communicate, for example, one needs to know the meanings of many words and understand them in many combinations.\n",
        "\n",
        "- Computers had lost their momentum because they didn't have the functionality to do what people have thought. AI was stiill a ways off.\n",
        "\n",
        "- In the 1980’s, \"deep learning\" was made popular.\n",
        "\n",
        "- In the 1990's, computers had developed enough to beat world champions at chess.\n",
        "\n",
        "- In the 1990's, computers had also developed enough to detect human emotion and react to it.([Kismet](http://news.mit.edu/2001/kismet))"
      ]
    },
    {
      "cell_type": "markdown",
      "metadata": {
        "id": "uLC53X9sCIDS",
        "colab_type": "text"
      },
      "source": [
        "### Time Heals all Wounds"
      ]
    },
    {
      "cell_type": "markdown",
      "metadata": {
        "id": "tyNJo19-CfT2",
        "colab_type": "text"
      },
      "source": [
        ""
      ]
    },
    {
      "cell_type": "markdown",
      "metadata": {
        "id": "rh3ZU5u_y8dV",
        "colab_type": "text"
      },
      "source": [
        "## [How far-are we from achieving artificial general intelligence](https://www.forbes.com/sites/cognitiveworld/2019/06/10/how-far-are-we-from-achieving-artificial-general-intelligence/#e8aa1876dc4d)"
      ]
    },
    {
      "cell_type": "markdown",
      "metadata": {
        "id": "RkCYJupbzs3I",
        "colab_type": "text"
      },
      "source": [
        ""
      ]
    },
    {
      "cell_type": "markdown",
      "metadata": {
        "id": "z6gn5dSvzAOe",
        "colab_type": "text"
      },
      "source": [
        "## [Humans Fascination with artificial general intellgience](https://www.informationweek.com/big-data/ai-machine-learning/humans-fascination-with-artificial-general-intelligence/a/d-id/1334885)"
      ]
    },
    {
      "cell_type": "markdown",
      "metadata": {
        "id": "FF13w93SzwZt",
        "colab_type": "text"
      },
      "source": [
        ""
      ]
    },
    {
      "cell_type": "markdown",
      "metadata": {
        "id": "mlLcZmzOzEsK",
        "colab_type": "text"
      },
      "source": [
        "## [Risks from Articial Intelligence](https://www.cser.ac.uk/research/risks-from-artificial-intelligence/)"
      ]
    },
    {
      "cell_type": "markdown",
      "metadata": {
        "id": "cQVQrVi0zve1",
        "colab_type": "text"
      },
      "source": [
        ""
      ]
    },
    {
      "cell_type": "markdown",
      "metadata": {
        "id": "k-JDFvo6zJdO",
        "colab_type": "text"
      },
      "source": [
        "## [AI Safety Concerns](https://www.vox.com/future-perfect/2019/1/9/18174081/fhi-govai-ai-safety-american-public-worried-ai-catastrophe)"
      ]
    },
    {
      "cell_type": "markdown",
      "metadata": {
        "id": "NT0QjLDHzu9j",
        "colab_type": "text"
      },
      "source": [
        ""
      ]
    },
    {
      "cell_type": "markdown",
      "metadata": {
        "id": "eAfpZz3tzOzM",
        "colab_type": "text"
      },
      "source": [
        "## [Pascal's Mugging](https://www.youtube.com/watch?v=JRuNA2eK7w0)"
      ]
    },
    {
      "cell_type": "markdown",
      "metadata": {
        "id": "oGzu7v4dzuY4",
        "colab_type": "text"
      },
      "source": [
        ""
      ]
    },
    {
      "cell_type": "markdown",
      "metadata": {
        "id": "cY9TV5D-zUfi",
        "colab_type": "text"
      },
      "source": [
        "## [Yann LeCunn Interview](https://www.youtube.com/watch?v=SGSOCuByo24)"
      ]
    },
    {
      "cell_type": "markdown",
      "metadata": {
        "id": "tZ_A0Tfezt1l",
        "colab_type": "text"
      },
      "source": [
        ""
      ]
    },
    {
      "cell_type": "markdown",
      "metadata": {
        "id": "BTBH_sSHzYun",
        "colab_type": "text"
      },
      "source": [
        "# Enjoy!  ☕"
      ]
    }
  ]
}