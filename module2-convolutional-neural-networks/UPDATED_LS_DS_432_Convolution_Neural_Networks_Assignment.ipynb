{
  "nbformat": 4,
  "nbformat_minor": 0,
  "metadata": {
    "kernelspec": {
      "name": "python3",
      "display_name": "Python 3"
    },
    "colab": {
      "name": "UPDATED_LS_DS_432_Convolution_Neural_Networks_Assignment.ipynb",
      "provenance": [],
      "include_colab_link": true
    },
    "accelerator": "GPU"
  },
  "cells": [
    {
      "cell_type": "markdown",
      "metadata": {
        "id": "view-in-github",
        "colab_type": "text"
      },
      "source": [
        "<a href=\"https://colab.research.google.com/github/jacobpad/DS-Unit-4-Sprint-3-Deep-Learning/blob/master/module2-convolutional-neural-networks/UPDATED_LS_DS_432_Convolution_Neural_Networks_Assignment.ipynb\" target=\"_parent\"><img src=\"https://colab.research.google.com/assets/colab-badge.svg\" alt=\"Open In Colab\"/></a>"
      ]
    },
    {
      "cell_type": "markdown",
      "metadata": {
        "id": "hJCeAgA_JXhV",
        "colab_type": "text"
      },
      "source": [
        "<img align=\"left\" src=\"https://lever-client-logos.s3.amazonaws.com/864372b1-534c-480e-acd5-9711f850815c-1524247202159.png\" width=200>\n",
        "<br></br>\n",
        "<br></br>\n",
        "\n",
        "## *Data Science Unit 4 Sprint 3 Assignment 2*\n",
        "# Convolutional Neural Networks (CNNs)"
      ]
    },
    {
      "cell_type": "markdown",
      "metadata": {
        "colab_type": "text",
        "id": "0lfZdD_cp1t5"
      },
      "source": [
        "# Assignment\n",
        "\n",
        "- <a href=\"#p1\">Part 1:</a> Pre-Trained Model\n",
        "- <a href=\"#p2\">Part 2:</a> Custom CNN Model\n",
        "- <a href=\"#p3\">Part 3:</a> CNN with Data Augmentation\n",
        "\n",
        "\n",
        "You will apply three different CNN models to a binary image classification model using Keras.  \n",
        "Classify images of Mountains (`./data/train/mountain/*`) and images of forests (`./data/train/forest/*`).  \n",
        "Treat mountains as the positive class (1) and the forest images as the negative (zero). \n",
        "\n",
        "|Mountain (+)|Forest (-)|\n",
        "|---|---|\n",
        "|![](https://raw.githubusercontent.com/jacobpad/DS-Unit-4-Sprint-3-Deep-Learning/master/module2-convolutional-neural-networks/data/mountain/land10.jpg)|![](https://raw.githubusercontent.com/jacobpad/DS-Unit-4-Sprint-3-Deep-Learning/master/module2-convolutional-neural-networks/data/forest/cdmc306.jpg)|\n",
        "\n",
        "The problem is relatively difficult given that the sample is tiny: there are about 350 observations per class. This sample size might be something that you can expect with prototyping an image classification problem/solution at work. Get accustomed to evaluating several different possible models."
      ]
    },
    {
      "cell_type": "markdown",
      "metadata": {
        "colab_type": "text",
        "id": "chv5g7uXJXhW"
      },
      "source": [
        "## Pre - Trained Model\n",
        "<a id=\"p1\"></a>\n",
        "\n",
        "Your assignment is to apply the transfer learning above to classify images of Mountains (`./data/train/mountain/*`) and images of forests (`./data/train/forest/*`). Treat mountains as the positive class (1) and the forest images as the negative (zero). \n",
        "\n",
        "Steps to complete assignment: \n",
        "1. Load in Image Data into numpy arrays (`X`) \n",
        "2. Create a `y` for the labels\n",
        "3. Train your model with pre-trained layers from resnet\n",
        "4. Report your model's accuracy"
      ]
    },
    {
      "cell_type": "markdown",
      "metadata": {
        "id": "QXOxZ1W5ge7P",
        "colab_type": "text"
      },
      "source": [
        "When the time comes:\n",
        "\n",
        "```\n",
        "# Run this code - because it helps life get easier.\n",
        "################################################################################\n",
        "# Load a pretrained network from Keras, ResNet50 - a 50 layer deep network \n",
        "#   trained to recognize 1000 objects. Starting usage:\n",
        "\n",
        "import numpy as np\n",
        "from tensorflow.keras import datasets\n",
        "from tensorflow.keras.applications.resnet50 import ResNet50\n",
        "from tensorflow.keras.preprocessing import image\n",
        "from tensorflow.keras.applications.resnet50 import preprocess_input, decode_predictions\n",
        "from tensorflow.keras.layers import Dense, GlobalAveragePooling2D, Conv2D, MaxPooling2D, Flatten\n",
        "from tensorflow.keras.models import Sequential, Model \n",
        "\n",
        "resnet = ResNet50(weights='imagenet', include_top=False)\n",
        "\n",
        "################################################################################\n",
        "# The include_top parameter in ResNet50 will remove the full connected layers \n",
        "#   from the ResNet model. The next step is to turn off the training of the \n",
        "#   ResNet layers. We want to use the learned parameters without updating them \n",
        "#   in future training passes.\n",
        "\n",
        "for layer in resnet.layers:\n",
        "    layer.trainable = False\n",
        "\n",
        "################################################################################\n",
        "# Using the Keras functional API, we will need to additional additional full \n",
        "#   connected layers to our model. We we removed the top layers, we removed all \n",
        "#   reivous fully connected layers. In other words, we kept only the feature \n",
        "#   processing portions of our network. You can expert with additional layers \n",
        "#   beyond what's listed here. The GlobalAveragePooling2D layer functions as a \n",
        "#   really fancy flatten function by taking the average of each of the last \n",
        "#   convolutional layer outputs (which is two dimensional still).\n",
        "\n",
        "x = resnet.output\n",
        "x = GlobalAveragePooling2D()(x) # This layer is a really fancy flatten\n",
        "x = Dense(1024, activation='relu')(x)\n",
        "predictions = Dense(1, activation='sigmoid')(x)\n",
        "\n",
        "# Instatiate Model\n",
        "model = Model(resnet.input, predictions)\n",
        "```"
      ]
    },
    {
      "cell_type": "markdown",
      "metadata": {
        "id": "evR3_FBYJXhX",
        "colab_type": "text"
      },
      "source": [
        "## Load in Data\n",
        "\n",
        "This surprisingly more difficult than it seems, because you are working with directories of images instead of a single file. This boiler plate will help you download a zipped version of the directory of images. The directory is organized into \"train\" and \"validation\" which you can use inside an `ImageGenerator` class to stream batches of images thru your model.  \n",
        "\n",
        "### Download & Summarize the Data\n",
        "\n",
        "This step is completed for you. Just run the cells and review the results. "
      ]
    },
    {
      "cell_type": "code",
      "metadata": {
        "id": "ctG3PvvNJXhY",
        "colab_type": "code",
        "colab": {
          "base_uri": "https://localhost:8080/",
          "height": 138
        },
        "outputId": "1904b902-d770-4f78-b44a-70f253ac3002"
      },
      "source": [
        "# Run this code - because it helps things work.\n",
        "\n",
        "import tensorflow as tf\n",
        "import os\n",
        "\n",
        "_URL = 'https://github.com/LambdaSchool/DS-Unit-4-Sprint-3-Deep-Learning/blob/master/module2-convolutional-neural-networks/data.zip?raw=true'\n",
        "\n",
        "path_to_zip = tf.keras.utils.get_file('./data.zip', origin=_URL, extract=True)\n",
        "PATH = os.path.join(os.path.dirname(path_to_zip), 'data')\n",
        "\n",
        "################################################################################\n",
        "train_dir = os.path.join(PATH, 'train')\n",
        "validation_dir = os.path.join(PATH, 'validation')\n",
        "\n",
        "################################################################################\n",
        "# directory with our training mointain pictures\n",
        "train_mountain_dir = os.path.join(train_dir, 'mountain')  \n",
        "\n",
        "# directory with our training forest pictures\n",
        "train_forest_dir = os.path.join(train_dir, 'forest')  \n",
        "\n",
        "# directory with our validation mointain pictures\n",
        "validation_mountain_dir = os.path.join(validation_dir, 'mountain')  \n",
        "\n",
        "# directory with our validation forest pictures\n",
        "validation_forest_dir = os.path.join(validation_dir, 'forest')  \n",
        "\n",
        "################################################################################\n",
        "num_mountain_tr = len(os.listdir(train_mountain_dir))\n",
        "num_forest_tr = len(os.listdir(train_forest_dir))\n",
        "\n",
        "num_mountain_val = len(os.listdir(validation_mountain_dir))\n",
        "num_forest_val = len(os.listdir(validation_forest_dir))\n",
        "\n",
        "total_train = num_mountain_tr + num_forest_tr\n",
        "total_val = num_mountain_val + num_forest_val\n",
        "\n",
        "################################################################################\n",
        "print('total training mountain images:', num_mountain_tr)\n",
        "print('total training forest images:', num_forest_tr)\n",
        "print('total validation mountain images:', num_mountain_val)\n",
        "print('total validation forest images:', num_forest_val)\n",
        "print(\"------\")\n",
        "print(\"Total training images:\", total_train)\n",
        "print(\"Total validation images:\", total_val)"
      ],
      "execution_count": 1,
      "outputs": [
        {
          "output_type": "stream",
          "text": [
            "total training mountain images: 254\n",
            "total training forest images: 270\n",
            "total validation mountain images: 125\n",
            "total validation forest images: 62\n",
            "------\n",
            "Total training images: 524\n",
            "Total validation images: 187\n"
          ],
          "name": "stdout"
        }
      ]
    },
    {
      "cell_type": "markdown",
      "metadata": {
        "id": "-CbfWoObJXhr",
        "colab_type": "text"
      },
      "source": [
        "### Keras `ImageGenerator` to Process the Data\n",
        "\n",
        "This step is completed for you, but please review the code. The `ImageGenerator` class reads in batches of data from a directory and pass them to the model one batch at a time. Just like large text files, this method is advantageous, because it stifles the need to load a bunch of images into memory. \n",
        "\n",
        "Check out the documentation for this class method: [Keras `ImageGenerator` Class](https://keras.io/preprocessing/image/#imagedatagenerator-class). You'll expand it's use in the third assignment objective."
      ]
    },
    {
      "cell_type": "code",
      "metadata": {
        "id": "XmihN_vRJXhr",
        "colab_type": "code",
        "colab": {}
      },
      "source": [
        "# Run these four code blocks - because it helps things work and does some stuff.\n",
        "\n",
        "batch_size = 16\n",
        "epochs = 50\n",
        "IMG_HEIGHT = 224\n",
        "IMG_WIDTH = 224\n",
        "# CHNLS = 3"
      ],
      "execution_count": 0,
      "outputs": []
    },
    {
      "cell_type": "code",
      "metadata": {
        "id": "l5RQXrBaJXhv",
        "colab_type": "code",
        "colab": {}
      },
      "source": [
        "from tensorflow.keras.preprocessing.image import ImageDataGenerator\n",
        "\n",
        "# Generator for our training data\n",
        "train_image_generator = ImageDataGenerator(rescale=1./255) \n",
        "\n",
        "# Generator for our validation data\n",
        "validation_image_generator = ImageDataGenerator(rescale=1./255) "
      ],
      "execution_count": 0,
      "outputs": []
    },
    {
      "cell_type": "code",
      "metadata": {
        "id": "hO7pf8-1JXhx",
        "colab_type": "code",
        "colab": {
          "base_uri": "https://localhost:8080/",
          "height": 35
        },
        "outputId": "1301633c-9ce3-4267-c462-6f11ebc80ac2"
      },
      "source": [
        "train_data_gen = train_image_generator.flow_from_directory(batch_size=batch_size,\n",
        "                                                           directory=train_dir,\n",
        "                                                           shuffle=True,\n",
        "                                                           target_size=(IMG_HEIGHT, \n",
        "                                                                        IMG_WIDTH, \n",
        "                                                                        # CHNLS\n",
        "                                                                        ),\n",
        "                                                           class_mode='binary')"
      ],
      "execution_count": 4,
      "outputs": [
        {
          "output_type": "stream",
          "text": [
            "Found 533 images belonging to 2 classes.\n"
          ],
          "name": "stdout"
        }
      ]
    },
    {
      "cell_type": "code",
      "metadata": {
        "id": "7m5CWJsxJXh0",
        "colab_type": "code",
        "colab": {
          "base_uri": "https://localhost:8080/",
          "height": 35
        },
        "outputId": "5b6d2f3c-6086-42fd-84b0-7e765aa60d60"
      },
      "source": [
        "val_data_gen = validation_image_generator.flow_from_directory(batch_size=batch_size,\n",
        "                                                              directory=validation_dir,\n",
        "                                                              target_size=(IMG_HEIGHT, \n",
        "                                                                           IMG_WIDTH, \n",
        "                                                                          #  CHNLS\n",
        "                                                                           ),\n",
        "                                                              class_mode='binary')"
      ],
      "execution_count": 5,
      "outputs": [
        {
          "output_type": "stream",
          "text": [
            "Found 195 images belonging to 2 classes.\n"
          ],
          "name": "stdout"
        }
      ]
    },
    {
      "cell_type": "markdown",
      "metadata": {
        "id": "BAe2LRRbWt9F",
        "colab_type": "text"
      },
      "source": [
        "# Student work begins here:"
      ]
    },
    {
      "cell_type": "markdown",
      "metadata": {
        "id": "V-vMskqviVAW",
        "colab_type": "text"
      },
      "source": [
        "## Instatiate Model"
      ]
    },
    {
      "cell_type": "code",
      "metadata": {
        "id": "mo3yIJFciXCJ",
        "colab_type": "code",
        "colab": {}
      },
      "source": [
        "# # Run this code - because it helps life get easier.\n",
        "# ################################################################################\n",
        "# # Load a pretrained network from Keras, ResNet50 - a 50 layer deep network \n",
        "# #   trained to recognize 1000 objects. Starting usage:\n",
        " \n",
        "# import numpy as np\n",
        "# from tensorflow.keras import datasets\n",
        "# from tensorflow.keras.applications.resnet50 import ResNet50\n",
        "# from tensorflow.keras.preprocessing import image\n",
        "# from tensorflow.keras.applications.resnet50 import preprocess_input, decode_predictions\n",
        "# from tensorflow.keras.layers import Dense, GlobalAveragePooling2D, Conv2D, MaxPooling2D, Flatten\n",
        "# from tensorflow.keras.models import Sequential, Model \n",
        " \n",
        "# resnet = ResNet50(weights='imagenet', include_top=False)\n",
        " \n",
        "# ################################################################################\n",
        "# # The include_top parameter in ResNet50 will remove the full connected layers \n",
        "# #   from the ResNet model. The next step is to turn off the training of the \n",
        "# #   ResNet layers. We want to use the learned parameters without updating them \n",
        "# #   in future training passes.\n",
        " \n",
        "# for layer in resnet.layers:\n",
        "#     layer.trainable = False\n",
        " \n",
        "# ################################################################################\n",
        "# # Using the Keras functional API, we will need to additional additional full \n",
        "# #   connected layers to our model. We we removed the top layers, we removed all \n",
        "# #   reivous fully connected layers. In other words, we kept only the feature \n",
        "# #   processing portions of our network. You can expert with additional layers \n",
        "# #   beyond what's listed here. The GlobalAveragePooling2D layer functions as a \n",
        "# #   really fancy flatten function by taking the average of each of the last \n",
        "# #   convolutional layer outputs (which is two dimensional still).\n",
        " \n",
        "# x = resnet.output\n",
        "# x = GlobalAveragePooling2D()(x) # This layer is a really fancy flatten\n",
        "# x = Dense(1024, activation='relu')(x)\n",
        "# predictions = Dense(1, activation='sigmoid')(x)\n",
        " \n",
        "# # Instatiate Model\n",
        "# model = Model(resnet.input, predictions)"
      ],
      "execution_count": 0,
      "outputs": []
    },
    {
      "cell_type": "code",
      "metadata": {
        "id": "IB0cYoIyobuB",
        "colab_type": "code",
        "colab": {}
      },
      "source": [
        "import numpy as np\n",
        " \n",
        "from tensorflow.keras.applications.resnet50 import ResNet50\n",
        "from tensorflow.keras.preprocessing import image\n",
        "from tensorflow.keras.applications.resnet50 import preprocess_input, decode_predictions\n",
        " \n",
        "from tensorflow.keras.layers import Dense, GlobalAveragePooling2D\n",
        "from tensorflow.keras.models import Model # This is the functional API\n",
        " \n",
        "# Load the trained ResNet50 model\n",
        "resnet = ResNet50(weights='imagenet', include_top=False)"
      ],
      "execution_count": 0,
      "outputs": []
    },
    {
      "cell_type": "code",
      "metadata": {
        "id": "XXOTOkiPoeq-",
        "colab_type": "code",
        "colab": {}
      },
      "source": [
        "for layer in resnet.layers:\n",
        "    layer.trainable = False"
      ],
      "execution_count": 0,
      "outputs": []
    },
    {
      "cell_type": "code",
      "metadata": {
        "id": "M-4xsUMnoh7F",
        "colab_type": "code",
        "colab": {}
      },
      "source": [
        "# Re-add dense layers (explained above)\n",
        "x = resnet.output\n",
        "x = GlobalAveragePooling2D()(x) # This layer is a really fancy flatten\n",
        "x = Dense(1024, activation='relu')(x)\n",
        "predictions = Dense(1, activation='sigmoid')(x)\n",
        "model = Model(resnet.input, predictions)"
      ],
      "execution_count": 0,
      "outputs": []
    },
    {
      "cell_type": "markdown",
      "metadata": {
        "id": "ObDVLyyNijLw",
        "colab_type": "text"
      },
      "source": [
        "## Compile Model"
      ]
    },
    {
      "cell_type": "code",
      "metadata": {
        "id": "uT9jDXh5imUc",
        "colab_type": "code",
        "colab": {}
      },
      "source": [
        "# Compile Model\n",
        "model.compile(optimizer='adam',\n",
        "              loss='binary_crossentropy',\n",
        "              metrics=['accuracy'])"
      ],
      "execution_count": 0,
      "outputs": []
    },
    {
      "cell_type": "code",
      "metadata": {
        "id": "dEm4gRQVZ9uR",
        "colab_type": "code",
        "colab": {
          "base_uri": "https://localhost:8080/",
          "height": 1000
        },
        "outputId": "c22b2260-04dd-4636-aec3-d362e8da7876"
      },
      "source": [
        "# Summary\n",
        "model.summary()"
      ],
      "execution_count": 11,
      "outputs": [
        {
          "output_type": "stream",
          "text": [
            "Model: \"model\"\n",
            "__________________________________________________________________________________________________\n",
            "Layer (type)                    Output Shape         Param #     Connected to                     \n",
            "==================================================================================================\n",
            "input_1 (InputLayer)            [(None, None, None,  0                                            \n",
            "__________________________________________________________________________________________________\n",
            "conv1_pad (ZeroPadding2D)       (None, None, None, 3 0           input_1[0][0]                    \n",
            "__________________________________________________________________________________________________\n",
            "conv1_conv (Conv2D)             (None, None, None, 6 9472        conv1_pad[0][0]                  \n",
            "__________________________________________________________________________________________________\n",
            "conv1_bn (BatchNormalization)   (None, None, None, 6 256         conv1_conv[0][0]                 \n",
            "__________________________________________________________________________________________________\n",
            "conv1_relu (Activation)         (None, None, None, 6 0           conv1_bn[0][0]                   \n",
            "__________________________________________________________________________________________________\n",
            "pool1_pad (ZeroPadding2D)       (None, None, None, 6 0           conv1_relu[0][0]                 \n",
            "__________________________________________________________________________________________________\n",
            "pool1_pool (MaxPooling2D)       (None, None, None, 6 0           pool1_pad[0][0]                  \n",
            "__________________________________________________________________________________________________\n",
            "conv2_block1_1_conv (Conv2D)    (None, None, None, 6 4160        pool1_pool[0][0]                 \n",
            "__________________________________________________________________________________________________\n",
            "conv2_block1_1_bn (BatchNormali (None, None, None, 6 256         conv2_block1_1_conv[0][0]        \n",
            "__________________________________________________________________________________________________\n",
            "conv2_block1_1_relu (Activation (None, None, None, 6 0           conv2_block1_1_bn[0][0]          \n",
            "__________________________________________________________________________________________________\n",
            "conv2_block1_2_conv (Conv2D)    (None, None, None, 6 36928       conv2_block1_1_relu[0][0]        \n",
            "__________________________________________________________________________________________________\n",
            "conv2_block1_2_bn (BatchNormali (None, None, None, 6 256         conv2_block1_2_conv[0][0]        \n",
            "__________________________________________________________________________________________________\n",
            "conv2_block1_2_relu (Activation (None, None, None, 6 0           conv2_block1_2_bn[0][0]          \n",
            "__________________________________________________________________________________________________\n",
            "conv2_block1_0_conv (Conv2D)    (None, None, None, 2 16640       pool1_pool[0][0]                 \n",
            "__________________________________________________________________________________________________\n",
            "conv2_block1_3_conv (Conv2D)    (None, None, None, 2 16640       conv2_block1_2_relu[0][0]        \n",
            "__________________________________________________________________________________________________\n",
            "conv2_block1_0_bn (BatchNormali (None, None, None, 2 1024        conv2_block1_0_conv[0][0]        \n",
            "__________________________________________________________________________________________________\n",
            "conv2_block1_3_bn (BatchNormali (None, None, None, 2 1024        conv2_block1_3_conv[0][0]        \n",
            "__________________________________________________________________________________________________\n",
            "conv2_block1_add (Add)          (None, None, None, 2 0           conv2_block1_0_bn[0][0]          \n",
            "                                                                 conv2_block1_3_bn[0][0]          \n",
            "__________________________________________________________________________________________________\n",
            "conv2_block1_out (Activation)   (None, None, None, 2 0           conv2_block1_add[0][0]           \n",
            "__________________________________________________________________________________________________\n",
            "conv2_block2_1_conv (Conv2D)    (None, None, None, 6 16448       conv2_block1_out[0][0]           \n",
            "__________________________________________________________________________________________________\n",
            "conv2_block2_1_bn (BatchNormali (None, None, None, 6 256         conv2_block2_1_conv[0][0]        \n",
            "__________________________________________________________________________________________________\n",
            "conv2_block2_1_relu (Activation (None, None, None, 6 0           conv2_block2_1_bn[0][0]          \n",
            "__________________________________________________________________________________________________\n",
            "conv2_block2_2_conv (Conv2D)    (None, None, None, 6 36928       conv2_block2_1_relu[0][0]        \n",
            "__________________________________________________________________________________________________\n",
            "conv2_block2_2_bn (BatchNormali (None, None, None, 6 256         conv2_block2_2_conv[0][0]        \n",
            "__________________________________________________________________________________________________\n",
            "conv2_block2_2_relu (Activation (None, None, None, 6 0           conv2_block2_2_bn[0][0]          \n",
            "__________________________________________________________________________________________________\n",
            "conv2_block2_3_conv (Conv2D)    (None, None, None, 2 16640       conv2_block2_2_relu[0][0]        \n",
            "__________________________________________________________________________________________________\n",
            "conv2_block2_3_bn (BatchNormali (None, None, None, 2 1024        conv2_block2_3_conv[0][0]        \n",
            "__________________________________________________________________________________________________\n",
            "conv2_block2_add (Add)          (None, None, None, 2 0           conv2_block1_out[0][0]           \n",
            "                                                                 conv2_block2_3_bn[0][0]          \n",
            "__________________________________________________________________________________________________\n",
            "conv2_block2_out (Activation)   (None, None, None, 2 0           conv2_block2_add[0][0]           \n",
            "__________________________________________________________________________________________________\n",
            "conv2_block3_1_conv (Conv2D)    (None, None, None, 6 16448       conv2_block2_out[0][0]           \n",
            "__________________________________________________________________________________________________\n",
            "conv2_block3_1_bn (BatchNormali (None, None, None, 6 256         conv2_block3_1_conv[0][0]        \n",
            "__________________________________________________________________________________________________\n",
            "conv2_block3_1_relu (Activation (None, None, None, 6 0           conv2_block3_1_bn[0][0]          \n",
            "__________________________________________________________________________________________________\n",
            "conv2_block3_2_conv (Conv2D)    (None, None, None, 6 36928       conv2_block3_1_relu[0][0]        \n",
            "__________________________________________________________________________________________________\n",
            "conv2_block3_2_bn (BatchNormali (None, None, None, 6 256         conv2_block3_2_conv[0][0]        \n",
            "__________________________________________________________________________________________________\n",
            "conv2_block3_2_relu (Activation (None, None, None, 6 0           conv2_block3_2_bn[0][0]          \n",
            "__________________________________________________________________________________________________\n",
            "conv2_block3_3_conv (Conv2D)    (None, None, None, 2 16640       conv2_block3_2_relu[0][0]        \n",
            "__________________________________________________________________________________________________\n",
            "conv2_block3_3_bn (BatchNormali (None, None, None, 2 1024        conv2_block3_3_conv[0][0]        \n",
            "__________________________________________________________________________________________________\n",
            "conv2_block3_add (Add)          (None, None, None, 2 0           conv2_block2_out[0][0]           \n",
            "                                                                 conv2_block3_3_bn[0][0]          \n",
            "__________________________________________________________________________________________________\n",
            "conv2_block3_out (Activation)   (None, None, None, 2 0           conv2_block3_add[0][0]           \n",
            "__________________________________________________________________________________________________\n",
            "conv3_block1_1_conv (Conv2D)    (None, None, None, 1 32896       conv2_block3_out[0][0]           \n",
            "__________________________________________________________________________________________________\n",
            "conv3_block1_1_bn (BatchNormali (None, None, None, 1 512         conv3_block1_1_conv[0][0]        \n",
            "__________________________________________________________________________________________________\n",
            "conv3_block1_1_relu (Activation (None, None, None, 1 0           conv3_block1_1_bn[0][0]          \n",
            "__________________________________________________________________________________________________\n",
            "conv3_block1_2_conv (Conv2D)    (None, None, None, 1 147584      conv3_block1_1_relu[0][0]        \n",
            "__________________________________________________________________________________________________\n",
            "conv3_block1_2_bn (BatchNormali (None, None, None, 1 512         conv3_block1_2_conv[0][0]        \n",
            "__________________________________________________________________________________________________\n",
            "conv3_block1_2_relu (Activation (None, None, None, 1 0           conv3_block1_2_bn[0][0]          \n",
            "__________________________________________________________________________________________________\n",
            "conv3_block1_0_conv (Conv2D)    (None, None, None, 5 131584      conv2_block3_out[0][0]           \n",
            "__________________________________________________________________________________________________\n",
            "conv3_block1_3_conv (Conv2D)    (None, None, None, 5 66048       conv3_block1_2_relu[0][0]        \n",
            "__________________________________________________________________________________________________\n",
            "conv3_block1_0_bn (BatchNormali (None, None, None, 5 2048        conv3_block1_0_conv[0][0]        \n",
            "__________________________________________________________________________________________________\n",
            "conv3_block1_3_bn (BatchNormali (None, None, None, 5 2048        conv3_block1_3_conv[0][0]        \n",
            "__________________________________________________________________________________________________\n",
            "conv3_block1_add (Add)          (None, None, None, 5 0           conv3_block1_0_bn[0][0]          \n",
            "                                                                 conv3_block1_3_bn[0][0]          \n",
            "__________________________________________________________________________________________________\n",
            "conv3_block1_out (Activation)   (None, None, None, 5 0           conv3_block1_add[0][0]           \n",
            "__________________________________________________________________________________________________\n",
            "conv3_block2_1_conv (Conv2D)    (None, None, None, 1 65664       conv3_block1_out[0][0]           \n",
            "__________________________________________________________________________________________________\n",
            "conv3_block2_1_bn (BatchNormali (None, None, None, 1 512         conv3_block2_1_conv[0][0]        \n",
            "__________________________________________________________________________________________________\n",
            "conv3_block2_1_relu (Activation (None, None, None, 1 0           conv3_block2_1_bn[0][0]          \n",
            "__________________________________________________________________________________________________\n",
            "conv3_block2_2_conv (Conv2D)    (None, None, None, 1 147584      conv3_block2_1_relu[0][0]        \n",
            "__________________________________________________________________________________________________\n",
            "conv3_block2_2_bn (BatchNormali (None, None, None, 1 512         conv3_block2_2_conv[0][0]        \n",
            "__________________________________________________________________________________________________\n",
            "conv3_block2_2_relu (Activation (None, None, None, 1 0           conv3_block2_2_bn[0][0]          \n",
            "__________________________________________________________________________________________________\n",
            "conv3_block2_3_conv (Conv2D)    (None, None, None, 5 66048       conv3_block2_2_relu[0][0]        \n",
            "__________________________________________________________________________________________________\n",
            "conv3_block2_3_bn (BatchNormali (None, None, None, 5 2048        conv3_block2_3_conv[0][0]        \n",
            "__________________________________________________________________________________________________\n",
            "conv3_block2_add (Add)          (None, None, None, 5 0           conv3_block1_out[0][0]           \n",
            "                                                                 conv3_block2_3_bn[0][0]          \n",
            "__________________________________________________________________________________________________\n",
            "conv3_block2_out (Activation)   (None, None, None, 5 0           conv3_block2_add[0][0]           \n",
            "__________________________________________________________________________________________________\n",
            "conv3_block3_1_conv (Conv2D)    (None, None, None, 1 65664       conv3_block2_out[0][0]           \n",
            "__________________________________________________________________________________________________\n",
            "conv3_block3_1_bn (BatchNormali (None, None, None, 1 512         conv3_block3_1_conv[0][0]        \n",
            "__________________________________________________________________________________________________\n",
            "conv3_block3_1_relu (Activation (None, None, None, 1 0           conv3_block3_1_bn[0][0]          \n",
            "__________________________________________________________________________________________________\n",
            "conv3_block3_2_conv (Conv2D)    (None, None, None, 1 147584      conv3_block3_1_relu[0][0]        \n",
            "__________________________________________________________________________________________________\n",
            "conv3_block3_2_bn (BatchNormali (None, None, None, 1 512         conv3_block3_2_conv[0][0]        \n",
            "__________________________________________________________________________________________________\n",
            "conv3_block3_2_relu (Activation (None, None, None, 1 0           conv3_block3_2_bn[0][0]          \n",
            "__________________________________________________________________________________________________\n",
            "conv3_block3_3_conv (Conv2D)    (None, None, None, 5 66048       conv3_block3_2_relu[0][0]        \n",
            "__________________________________________________________________________________________________\n",
            "conv3_block3_3_bn (BatchNormali (None, None, None, 5 2048        conv3_block3_3_conv[0][0]        \n",
            "__________________________________________________________________________________________________\n",
            "conv3_block3_add (Add)          (None, None, None, 5 0           conv3_block2_out[0][0]           \n",
            "                                                                 conv3_block3_3_bn[0][0]          \n",
            "__________________________________________________________________________________________________\n",
            "conv3_block3_out (Activation)   (None, None, None, 5 0           conv3_block3_add[0][0]           \n",
            "__________________________________________________________________________________________________\n",
            "conv3_block4_1_conv (Conv2D)    (None, None, None, 1 65664       conv3_block3_out[0][0]           \n",
            "__________________________________________________________________________________________________\n",
            "conv3_block4_1_bn (BatchNormali (None, None, None, 1 512         conv3_block4_1_conv[0][0]        \n",
            "__________________________________________________________________________________________________\n",
            "conv3_block4_1_relu (Activation (None, None, None, 1 0           conv3_block4_1_bn[0][0]          \n",
            "__________________________________________________________________________________________________\n",
            "conv3_block4_2_conv (Conv2D)    (None, None, None, 1 147584      conv3_block4_1_relu[0][0]        \n",
            "__________________________________________________________________________________________________\n",
            "conv3_block4_2_bn (BatchNormali (None, None, None, 1 512         conv3_block4_2_conv[0][0]        \n",
            "__________________________________________________________________________________________________\n",
            "conv3_block4_2_relu (Activation (None, None, None, 1 0           conv3_block4_2_bn[0][0]          \n",
            "__________________________________________________________________________________________________\n",
            "conv3_block4_3_conv (Conv2D)    (None, None, None, 5 66048       conv3_block4_2_relu[0][0]        \n",
            "__________________________________________________________________________________________________\n",
            "conv3_block4_3_bn (BatchNormali (None, None, None, 5 2048        conv3_block4_3_conv[0][0]        \n",
            "__________________________________________________________________________________________________\n",
            "conv3_block4_add (Add)          (None, None, None, 5 0           conv3_block3_out[0][0]           \n",
            "                                                                 conv3_block4_3_bn[0][0]          \n",
            "__________________________________________________________________________________________________\n",
            "conv3_block4_out (Activation)   (None, None, None, 5 0           conv3_block4_add[0][0]           \n",
            "__________________________________________________________________________________________________\n",
            "conv4_block1_1_conv (Conv2D)    (None, None, None, 2 131328      conv3_block4_out[0][0]           \n",
            "__________________________________________________________________________________________________\n",
            "conv4_block1_1_bn (BatchNormali (None, None, None, 2 1024        conv4_block1_1_conv[0][0]        \n",
            "__________________________________________________________________________________________________\n",
            "conv4_block1_1_relu (Activation (None, None, None, 2 0           conv4_block1_1_bn[0][0]          \n",
            "__________________________________________________________________________________________________\n",
            "conv4_block1_2_conv (Conv2D)    (None, None, None, 2 590080      conv4_block1_1_relu[0][0]        \n",
            "__________________________________________________________________________________________________\n",
            "conv4_block1_2_bn (BatchNormali (None, None, None, 2 1024        conv4_block1_2_conv[0][0]        \n",
            "__________________________________________________________________________________________________\n",
            "conv4_block1_2_relu (Activation (None, None, None, 2 0           conv4_block1_2_bn[0][0]          \n",
            "__________________________________________________________________________________________________\n",
            "conv4_block1_0_conv (Conv2D)    (None, None, None, 1 525312      conv3_block4_out[0][0]           \n",
            "__________________________________________________________________________________________________\n",
            "conv4_block1_3_conv (Conv2D)    (None, None, None, 1 263168      conv4_block1_2_relu[0][0]        \n",
            "__________________________________________________________________________________________________\n",
            "conv4_block1_0_bn (BatchNormali (None, None, None, 1 4096        conv4_block1_0_conv[0][0]        \n",
            "__________________________________________________________________________________________________\n",
            "conv4_block1_3_bn (BatchNormali (None, None, None, 1 4096        conv4_block1_3_conv[0][0]        \n",
            "__________________________________________________________________________________________________\n",
            "conv4_block1_add (Add)          (None, None, None, 1 0           conv4_block1_0_bn[0][0]          \n",
            "                                                                 conv4_block1_3_bn[0][0]          \n",
            "__________________________________________________________________________________________________\n",
            "conv4_block1_out (Activation)   (None, None, None, 1 0           conv4_block1_add[0][0]           \n",
            "__________________________________________________________________________________________________\n",
            "conv4_block2_1_conv (Conv2D)    (None, None, None, 2 262400      conv4_block1_out[0][0]           \n",
            "__________________________________________________________________________________________________\n",
            "conv4_block2_1_bn (BatchNormali (None, None, None, 2 1024        conv4_block2_1_conv[0][0]        \n",
            "__________________________________________________________________________________________________\n",
            "conv4_block2_1_relu (Activation (None, None, None, 2 0           conv4_block2_1_bn[0][0]          \n",
            "__________________________________________________________________________________________________\n",
            "conv4_block2_2_conv (Conv2D)    (None, None, None, 2 590080      conv4_block2_1_relu[0][0]        \n",
            "__________________________________________________________________________________________________\n",
            "conv4_block2_2_bn (BatchNormali (None, None, None, 2 1024        conv4_block2_2_conv[0][0]        \n",
            "__________________________________________________________________________________________________\n",
            "conv4_block2_2_relu (Activation (None, None, None, 2 0           conv4_block2_2_bn[0][0]          \n",
            "__________________________________________________________________________________________________\n",
            "conv4_block2_3_conv (Conv2D)    (None, None, None, 1 263168      conv4_block2_2_relu[0][0]        \n",
            "__________________________________________________________________________________________________\n",
            "conv4_block2_3_bn (BatchNormali (None, None, None, 1 4096        conv4_block2_3_conv[0][0]        \n",
            "__________________________________________________________________________________________________\n",
            "conv4_block2_add (Add)          (None, None, None, 1 0           conv4_block1_out[0][0]           \n",
            "                                                                 conv4_block2_3_bn[0][0]          \n",
            "__________________________________________________________________________________________________\n",
            "conv4_block2_out (Activation)   (None, None, None, 1 0           conv4_block2_add[0][0]           \n",
            "__________________________________________________________________________________________________\n",
            "conv4_block3_1_conv (Conv2D)    (None, None, None, 2 262400      conv4_block2_out[0][0]           \n",
            "__________________________________________________________________________________________________\n",
            "conv4_block3_1_bn (BatchNormali (None, None, None, 2 1024        conv4_block3_1_conv[0][0]        \n",
            "__________________________________________________________________________________________________\n",
            "conv4_block3_1_relu (Activation (None, None, None, 2 0           conv4_block3_1_bn[0][0]          \n",
            "__________________________________________________________________________________________________\n",
            "conv4_block3_2_conv (Conv2D)    (None, None, None, 2 590080      conv4_block3_1_relu[0][0]        \n",
            "__________________________________________________________________________________________________\n",
            "conv4_block3_2_bn (BatchNormali (None, None, None, 2 1024        conv4_block3_2_conv[0][0]        \n",
            "__________________________________________________________________________________________________\n",
            "conv4_block3_2_relu (Activation (None, None, None, 2 0           conv4_block3_2_bn[0][0]          \n",
            "__________________________________________________________________________________________________\n",
            "conv4_block3_3_conv (Conv2D)    (None, None, None, 1 263168      conv4_block3_2_relu[0][0]        \n",
            "__________________________________________________________________________________________________\n",
            "conv4_block3_3_bn (BatchNormali (None, None, None, 1 4096        conv4_block3_3_conv[0][0]        \n",
            "__________________________________________________________________________________________________\n",
            "conv4_block3_add (Add)          (None, None, None, 1 0           conv4_block2_out[0][0]           \n",
            "                                                                 conv4_block3_3_bn[0][0]          \n",
            "__________________________________________________________________________________________________\n",
            "conv4_block3_out (Activation)   (None, None, None, 1 0           conv4_block3_add[0][0]           \n",
            "__________________________________________________________________________________________________\n",
            "conv4_block4_1_conv (Conv2D)    (None, None, None, 2 262400      conv4_block3_out[0][0]           \n",
            "__________________________________________________________________________________________________\n",
            "conv4_block4_1_bn (BatchNormali (None, None, None, 2 1024        conv4_block4_1_conv[0][0]        \n",
            "__________________________________________________________________________________________________\n",
            "conv4_block4_1_relu (Activation (None, None, None, 2 0           conv4_block4_1_bn[0][0]          \n",
            "__________________________________________________________________________________________________\n",
            "conv4_block4_2_conv (Conv2D)    (None, None, None, 2 590080      conv4_block4_1_relu[0][0]        \n",
            "__________________________________________________________________________________________________\n",
            "conv4_block4_2_bn (BatchNormali (None, None, None, 2 1024        conv4_block4_2_conv[0][0]        \n",
            "__________________________________________________________________________________________________\n",
            "conv4_block4_2_relu (Activation (None, None, None, 2 0           conv4_block4_2_bn[0][0]          \n",
            "__________________________________________________________________________________________________\n",
            "conv4_block4_3_conv (Conv2D)    (None, None, None, 1 263168      conv4_block4_2_relu[0][0]        \n",
            "__________________________________________________________________________________________________\n",
            "conv4_block4_3_bn (BatchNormali (None, None, None, 1 4096        conv4_block4_3_conv[0][0]        \n",
            "__________________________________________________________________________________________________\n",
            "conv4_block4_add (Add)          (None, None, None, 1 0           conv4_block3_out[0][0]           \n",
            "                                                                 conv4_block4_3_bn[0][0]          \n",
            "__________________________________________________________________________________________________\n",
            "conv4_block4_out (Activation)   (None, None, None, 1 0           conv4_block4_add[0][0]           \n",
            "__________________________________________________________________________________________________\n",
            "conv4_block5_1_conv (Conv2D)    (None, None, None, 2 262400      conv4_block4_out[0][0]           \n",
            "__________________________________________________________________________________________________\n",
            "conv4_block5_1_bn (BatchNormali (None, None, None, 2 1024        conv4_block5_1_conv[0][0]        \n",
            "__________________________________________________________________________________________________\n",
            "conv4_block5_1_relu (Activation (None, None, None, 2 0           conv4_block5_1_bn[0][0]          \n",
            "__________________________________________________________________________________________________\n",
            "conv4_block5_2_conv (Conv2D)    (None, None, None, 2 590080      conv4_block5_1_relu[0][0]        \n",
            "__________________________________________________________________________________________________\n",
            "conv4_block5_2_bn (BatchNormali (None, None, None, 2 1024        conv4_block5_2_conv[0][0]        \n",
            "__________________________________________________________________________________________________\n",
            "conv4_block5_2_relu (Activation (None, None, None, 2 0           conv4_block5_2_bn[0][0]          \n",
            "__________________________________________________________________________________________________\n",
            "conv4_block5_3_conv (Conv2D)    (None, None, None, 1 263168      conv4_block5_2_relu[0][0]        \n",
            "__________________________________________________________________________________________________\n",
            "conv4_block5_3_bn (BatchNormali (None, None, None, 1 4096        conv4_block5_3_conv[0][0]        \n",
            "__________________________________________________________________________________________________\n",
            "conv4_block5_add (Add)          (None, None, None, 1 0           conv4_block4_out[0][0]           \n",
            "                                                                 conv4_block5_3_bn[0][0]          \n",
            "__________________________________________________________________________________________________\n",
            "conv4_block5_out (Activation)   (None, None, None, 1 0           conv4_block5_add[0][0]           \n",
            "__________________________________________________________________________________________________\n",
            "conv4_block6_1_conv (Conv2D)    (None, None, None, 2 262400      conv4_block5_out[0][0]           \n",
            "__________________________________________________________________________________________________\n",
            "conv4_block6_1_bn (BatchNormali (None, None, None, 2 1024        conv4_block6_1_conv[0][0]        \n",
            "__________________________________________________________________________________________________\n",
            "conv4_block6_1_relu (Activation (None, None, None, 2 0           conv4_block6_1_bn[0][0]          \n",
            "__________________________________________________________________________________________________\n",
            "conv4_block6_2_conv (Conv2D)    (None, None, None, 2 590080      conv4_block6_1_relu[0][0]        \n",
            "__________________________________________________________________________________________________\n",
            "conv4_block6_2_bn (BatchNormali (None, None, None, 2 1024        conv4_block6_2_conv[0][0]        \n",
            "__________________________________________________________________________________________________\n",
            "conv4_block6_2_relu (Activation (None, None, None, 2 0           conv4_block6_2_bn[0][0]          \n",
            "__________________________________________________________________________________________________\n",
            "conv4_block6_3_conv (Conv2D)    (None, None, None, 1 263168      conv4_block6_2_relu[0][0]        \n",
            "__________________________________________________________________________________________________\n",
            "conv4_block6_3_bn (BatchNormali (None, None, None, 1 4096        conv4_block6_3_conv[0][0]        \n",
            "__________________________________________________________________________________________________\n",
            "conv4_block6_add (Add)          (None, None, None, 1 0           conv4_block5_out[0][0]           \n",
            "                                                                 conv4_block6_3_bn[0][0]          \n",
            "__________________________________________________________________________________________________\n",
            "conv4_block6_out (Activation)   (None, None, None, 1 0           conv4_block6_add[0][0]           \n",
            "__________________________________________________________________________________________________\n",
            "conv5_block1_1_conv (Conv2D)    (None, None, None, 5 524800      conv4_block6_out[0][0]           \n",
            "__________________________________________________________________________________________________\n",
            "conv5_block1_1_bn (BatchNormali (None, None, None, 5 2048        conv5_block1_1_conv[0][0]        \n",
            "__________________________________________________________________________________________________\n",
            "conv5_block1_1_relu (Activation (None, None, None, 5 0           conv5_block1_1_bn[0][0]          \n",
            "__________________________________________________________________________________________________\n",
            "conv5_block1_2_conv (Conv2D)    (None, None, None, 5 2359808     conv5_block1_1_relu[0][0]        \n",
            "__________________________________________________________________________________________________\n",
            "conv5_block1_2_bn (BatchNormali (None, None, None, 5 2048        conv5_block1_2_conv[0][0]        \n",
            "__________________________________________________________________________________________________\n",
            "conv5_block1_2_relu (Activation (None, None, None, 5 0           conv5_block1_2_bn[0][0]          \n",
            "__________________________________________________________________________________________________\n",
            "conv5_block1_0_conv (Conv2D)    (None, None, None, 2 2099200     conv4_block6_out[0][0]           \n",
            "__________________________________________________________________________________________________\n",
            "conv5_block1_3_conv (Conv2D)    (None, None, None, 2 1050624     conv5_block1_2_relu[0][0]        \n",
            "__________________________________________________________________________________________________\n",
            "conv5_block1_0_bn (BatchNormali (None, None, None, 2 8192        conv5_block1_0_conv[0][0]        \n",
            "__________________________________________________________________________________________________\n",
            "conv5_block1_3_bn (BatchNormali (None, None, None, 2 8192        conv5_block1_3_conv[0][0]        \n",
            "__________________________________________________________________________________________________\n",
            "conv5_block1_add (Add)          (None, None, None, 2 0           conv5_block1_0_bn[0][0]          \n",
            "                                                                 conv5_block1_3_bn[0][0]          \n",
            "__________________________________________________________________________________________________\n",
            "conv5_block1_out (Activation)   (None, None, None, 2 0           conv5_block1_add[0][0]           \n",
            "__________________________________________________________________________________________________\n",
            "conv5_block2_1_conv (Conv2D)    (None, None, None, 5 1049088     conv5_block1_out[0][0]           \n",
            "__________________________________________________________________________________________________\n",
            "conv5_block2_1_bn (BatchNormali (None, None, None, 5 2048        conv5_block2_1_conv[0][0]        \n",
            "__________________________________________________________________________________________________\n",
            "conv5_block2_1_relu (Activation (None, None, None, 5 0           conv5_block2_1_bn[0][0]          \n",
            "__________________________________________________________________________________________________\n",
            "conv5_block2_2_conv (Conv2D)    (None, None, None, 5 2359808     conv5_block2_1_relu[0][0]        \n",
            "__________________________________________________________________________________________________\n",
            "conv5_block2_2_bn (BatchNormali (None, None, None, 5 2048        conv5_block2_2_conv[0][0]        \n",
            "__________________________________________________________________________________________________\n",
            "conv5_block2_2_relu (Activation (None, None, None, 5 0           conv5_block2_2_bn[0][0]          \n",
            "__________________________________________________________________________________________________\n",
            "conv5_block2_3_conv (Conv2D)    (None, None, None, 2 1050624     conv5_block2_2_relu[0][0]        \n",
            "__________________________________________________________________________________________________\n",
            "conv5_block2_3_bn (BatchNormali (None, None, None, 2 8192        conv5_block2_3_conv[0][0]        \n",
            "__________________________________________________________________________________________________\n",
            "conv5_block2_add (Add)          (None, None, None, 2 0           conv5_block1_out[0][0]           \n",
            "                                                                 conv5_block2_3_bn[0][0]          \n",
            "__________________________________________________________________________________________________\n",
            "conv5_block2_out (Activation)   (None, None, None, 2 0           conv5_block2_add[0][0]           \n",
            "__________________________________________________________________________________________________\n",
            "conv5_block3_1_conv (Conv2D)    (None, None, None, 5 1049088     conv5_block2_out[0][0]           \n",
            "__________________________________________________________________________________________________\n",
            "conv5_block3_1_bn (BatchNormali (None, None, None, 5 2048        conv5_block3_1_conv[0][0]        \n",
            "__________________________________________________________________________________________________\n",
            "conv5_block3_1_relu (Activation (None, None, None, 5 0           conv5_block3_1_bn[0][0]          \n",
            "__________________________________________________________________________________________________\n",
            "conv5_block3_2_conv (Conv2D)    (None, None, None, 5 2359808     conv5_block3_1_relu[0][0]        \n",
            "__________________________________________________________________________________________________\n",
            "conv5_block3_2_bn (BatchNormali (None, None, None, 5 2048        conv5_block3_2_conv[0][0]        \n",
            "__________________________________________________________________________________________________\n",
            "conv5_block3_2_relu (Activation (None, None, None, 5 0           conv5_block3_2_bn[0][0]          \n",
            "__________________________________________________________________________________________________\n",
            "conv5_block3_3_conv (Conv2D)    (None, None, None, 2 1050624     conv5_block3_2_relu[0][0]        \n",
            "__________________________________________________________________________________________________\n",
            "conv5_block3_3_bn (BatchNormali (None, None, None, 2 8192        conv5_block3_3_conv[0][0]        \n",
            "__________________________________________________________________________________________________\n",
            "conv5_block3_add (Add)          (None, None, None, 2 0           conv5_block2_out[0][0]           \n",
            "                                                                 conv5_block3_3_bn[0][0]          \n",
            "__________________________________________________________________________________________________\n",
            "conv5_block3_out (Activation)   (None, None, None, 2 0           conv5_block3_add[0][0]           \n",
            "__________________________________________________________________________________________________\n",
            "global_average_pooling2d (Globa (None, 2048)         0           conv5_block3_out[0][0]           \n",
            "__________________________________________________________________________________________________\n",
            "dense (Dense)                   (None, 1024)         2098176     global_average_pooling2d[0][0]   \n",
            "__________________________________________________________________________________________________\n",
            "dense_1 (Dense)                 (None, 1)            1025        dense[0][0]                      \n",
            "==================================================================================================\n",
            "Total params: 25,686,913\n",
            "Trainable params: 2,099,201\n",
            "Non-trainable params: 23,587,712\n",
            "__________________________________________________________________________________________________\n"
          ],
          "name": "stdout"
        }
      ]
    },
    {
      "cell_type": "markdown",
      "metadata": {
        "id": "_JfJ3WN4idAa",
        "colab_type": "text"
      },
      "source": [
        "## Fit Model"
      ]
    },
    {
      "cell_type": "code",
      "metadata": {
        "id": "K44Z3R9bZPsr",
        "colab_type": "code",
        "colab": {
          "base_uri": "https://localhost:8080/",
          "height": 1000
        },
        "outputId": "1036f438-d91a-4b58-b884-d90b51023b8f"
      },
      "source": [
        "# Fit Model\n",
        "history = model.fit(train_data_gen, \n",
        "                    steps_per_epoch=total_train // batch_size, epochs=epochs, \n",
        "                    validation_data=val_data_gen,  \n",
        "                    validation_steps=total_val // batch_size\n",
        "                    )"
      ],
      "execution_count": 12,
      "outputs": [
        {
          "output_type": "stream",
          "text": [
            "Epoch 1/50\n",
            "32/32 [==============================] - 4s 131ms/step - loss: 0.7659 - accuracy: 0.5762 - val_loss: 0.6208 - val_accuracy: 0.6761\n",
            "Epoch 2/50\n",
            "32/32 [==============================] - 4s 117ms/step - loss: 0.6767 - accuracy: 0.6148 - val_loss: 0.5418 - val_accuracy: 0.6871\n",
            "Epoch 3/50\n",
            "32/32 [==============================] - 3s 102ms/step - loss: 0.5578 - accuracy: 0.7026 - val_loss: 0.4921 - val_accuracy: 0.8405\n",
            "Epoch 4/50\n",
            "32/32 [==============================] - 3s 101ms/step - loss: 0.5020 - accuracy: 0.7824 - val_loss: 0.4593 - val_accuracy: 0.8589\n",
            "Epoch 5/50\n",
            "32/32 [==============================] - 3s 103ms/step - loss: 0.4792 - accuracy: 0.7804 - val_loss: 0.4578 - val_accuracy: 0.8589\n",
            "Epoch 6/50\n",
            "32/32 [==============================] - 3s 102ms/step - loss: 0.4165 - accuracy: 0.8204 - val_loss: 0.3573 - val_accuracy: 0.9018\n",
            "Epoch 7/50\n",
            "32/32 [==============================] - 3s 102ms/step - loss: 0.4795 - accuracy: 0.7565 - val_loss: 0.4240 - val_accuracy: 0.7607\n",
            "Epoch 8/50\n",
            "32/32 [==============================] - 3s 103ms/step - loss: 0.3741 - accuracy: 0.8503 - val_loss: 0.3557 - val_accuracy: 0.8957\n",
            "Epoch 9/50\n",
            "32/32 [==============================] - 3s 102ms/step - loss: 0.3253 - accuracy: 0.9082 - val_loss: 0.3770 - val_accuracy: 0.8282\n",
            "Epoch 10/50\n",
            "32/32 [==============================] - 3s 102ms/step - loss: 0.3750 - accuracy: 0.8204 - val_loss: 0.3376 - val_accuracy: 0.8834\n",
            "Epoch 11/50\n",
            "32/32 [==============================] - 3s 102ms/step - loss: 0.3163 - accuracy: 0.8583 - val_loss: 0.3071 - val_accuracy: 0.8834\n",
            "Epoch 12/50\n",
            "32/32 [==============================] - 3s 101ms/step - loss: 0.2871 - accuracy: 0.8982 - val_loss: 0.4607 - val_accuracy: 0.7791\n",
            "Epoch 13/50\n",
            "32/32 [==============================] - 3s 103ms/step - loss: 0.2888 - accuracy: 0.8922 - val_loss: 0.3568 - val_accuracy: 0.8523\n",
            "Epoch 14/50\n",
            "32/32 [==============================] - 3s 103ms/step - loss: 0.2368 - accuracy: 0.9122 - val_loss: 0.3134 - val_accuracy: 0.9091\n",
            "Epoch 15/50\n",
            "32/32 [==============================] - 3s 101ms/step - loss: 0.2494 - accuracy: 0.9162 - val_loss: 0.4191 - val_accuracy: 0.8098\n",
            "Epoch 16/50\n",
            "32/32 [==============================] - 3s 102ms/step - loss: 0.2464 - accuracy: 0.9281 - val_loss: 0.2953 - val_accuracy: 0.8650\n",
            "Epoch 17/50\n",
            "32/32 [==============================] - 3s 102ms/step - loss: 0.2946 - accuracy: 0.8822 - val_loss: 0.7071 - val_accuracy: 0.6871\n",
            "Epoch 18/50\n",
            "32/32 [==============================] - 3s 104ms/step - loss: 0.3111 - accuracy: 0.8320 - val_loss: 0.2384 - val_accuracy: 0.9325\n",
            "Epoch 19/50\n",
            "32/32 [==============================] - 3s 102ms/step - loss: 0.1994 - accuracy: 0.9381 - val_loss: 0.2474 - val_accuracy: 0.8896\n",
            "Epoch 20/50\n",
            "32/32 [==============================] - 3s 102ms/step - loss: 0.1660 - accuracy: 0.9581 - val_loss: 0.3269 - val_accuracy: 0.8405\n",
            "Epoch 21/50\n",
            "32/32 [==============================] - 3s 102ms/step - loss: 0.1769 - accuracy: 0.9321 - val_loss: 0.2289 - val_accuracy: 0.9448\n",
            "Epoch 22/50\n",
            "32/32 [==============================] - 3s 102ms/step - loss: 0.1755 - accuracy: 0.9461 - val_loss: 0.3602 - val_accuracy: 0.8405\n",
            "Epoch 23/50\n",
            "32/32 [==============================] - 3s 102ms/step - loss: 0.2092 - accuracy: 0.9202 - val_loss: 0.2245 - val_accuracy: 0.8896\n",
            "Epoch 24/50\n",
            "32/32 [==============================] - 3s 102ms/step - loss: 0.2021 - accuracy: 0.9182 - val_loss: 0.4705 - val_accuracy: 0.8221\n",
            "Epoch 25/50\n",
            "32/32 [==============================] - 3s 102ms/step - loss: 0.1990 - accuracy: 0.9301 - val_loss: 0.2171 - val_accuracy: 0.9202\n",
            "Epoch 26/50\n",
            "32/32 [==============================] - 3s 104ms/step - loss: 0.1424 - accuracy: 0.9601 - val_loss: 0.3948 - val_accuracy: 0.8409\n",
            "Epoch 27/50\n",
            "32/32 [==============================] - 3s 104ms/step - loss: 0.1248 - accuracy: 0.9601 - val_loss: 0.3668 - val_accuracy: 0.8523\n",
            "Epoch 28/50\n",
            "32/32 [==============================] - 3s 101ms/step - loss: 0.1438 - accuracy: 0.9561 - val_loss: 0.2725 - val_accuracy: 0.8957\n",
            "Epoch 29/50\n",
            "32/32 [==============================] - 3s 103ms/step - loss: 0.1518 - accuracy: 0.9461 - val_loss: 0.2116 - val_accuracy: 0.9448\n",
            "Epoch 30/50\n",
            "32/32 [==============================] - 3s 102ms/step - loss: 0.2122 - accuracy: 0.9022 - val_loss: 0.2450 - val_accuracy: 0.8773\n",
            "Epoch 31/50\n",
            "32/32 [==============================] - 3s 102ms/step - loss: 0.1433 - accuracy: 0.9381 - val_loss: 0.1270 - val_accuracy: 0.9509\n",
            "Epoch 32/50\n",
            "32/32 [==============================] - 3s 102ms/step - loss: 0.1258 - accuracy: 0.9541 - val_loss: 0.2436 - val_accuracy: 0.9080\n",
            "Epoch 33/50\n",
            "32/32 [==============================] - 3s 103ms/step - loss: 0.1091 - accuracy: 0.9521 - val_loss: 0.3516 - val_accuracy: 0.9202\n",
            "Epoch 34/50\n",
            "32/32 [==============================] - 3s 103ms/step - loss: 0.0948 - accuracy: 0.9661 - val_loss: 0.2269 - val_accuracy: 0.9264\n",
            "Epoch 35/50\n",
            "32/32 [==============================] - 3s 102ms/step - loss: 0.0987 - accuracy: 0.9668 - val_loss: 0.1628 - val_accuracy: 0.9448\n",
            "Epoch 36/50\n",
            "32/32 [==============================] - 3s 103ms/step - loss: 0.0980 - accuracy: 0.9721 - val_loss: 0.2946 - val_accuracy: 0.9509\n",
            "Epoch 37/50\n",
            "32/32 [==============================] - 3s 102ms/step - loss: 0.2023 - accuracy: 0.9142 - val_loss: 0.6503 - val_accuracy: 0.7853\n",
            "Epoch 38/50\n",
            "32/32 [==============================] - 3s 102ms/step - loss: 0.2326 - accuracy: 0.8902 - val_loss: 0.3002 - val_accuracy: 0.8712\n",
            "Epoch 39/50\n",
            "32/32 [==============================] - 3s 103ms/step - loss: 0.0809 - accuracy: 0.9721 - val_loss: 0.1887 - val_accuracy: 0.9489\n",
            "Epoch 40/50\n",
            "32/32 [==============================] - 3s 103ms/step - loss: 0.1150 - accuracy: 0.9601 - val_loss: 0.1901 - val_accuracy: 0.9318\n",
            "Epoch 41/50\n",
            "32/32 [==============================] - 3s 101ms/step - loss: 0.1018 - accuracy: 0.9521 - val_loss: 0.2636 - val_accuracy: 0.9018\n",
            "Epoch 42/50\n",
            "32/32 [==============================] - 3s 102ms/step - loss: 0.1095 - accuracy: 0.9561 - val_loss: 0.2806 - val_accuracy: 0.8712\n",
            "Epoch 43/50\n",
            "32/32 [==============================] - 3s 102ms/step - loss: 0.0738 - accuracy: 0.9721 - val_loss: 0.4966 - val_accuracy: 0.8712\n",
            "Epoch 44/50\n",
            "32/32 [==============================] - 3s 103ms/step - loss: 0.0888 - accuracy: 0.9701 - val_loss: 0.2158 - val_accuracy: 0.9018\n",
            "Epoch 45/50\n",
            "32/32 [==============================] - 3s 104ms/step - loss: 0.1259 - accuracy: 0.9501 - val_loss: 0.8105 - val_accuracy: 0.6994\n",
            "Epoch 46/50\n",
            "32/32 [==============================] - 3s 102ms/step - loss: 0.1303 - accuracy: 0.9501 - val_loss: 0.1989 - val_accuracy: 0.9448\n",
            "Epoch 47/50\n",
            "32/32 [==============================] - 3s 102ms/step - loss: 0.1355 - accuracy: 0.9541 - val_loss: 0.2186 - val_accuracy: 0.9202\n",
            "Epoch 48/50\n",
            "32/32 [==============================] - 3s 103ms/step - loss: 0.0679 - accuracy: 0.9840 - val_loss: 0.2276 - val_accuracy: 0.9264\n",
            "Epoch 49/50\n",
            "32/32 [==============================] - 3s 103ms/step - loss: 0.0620 - accuracy: 0.9800 - val_loss: 0.1470 - val_accuracy: 0.9632\n",
            "Epoch 50/50\n",
            "32/32 [==============================] - 3s 102ms/step - loss: 0.0884 - accuracy: 0.9760 - val_loss: 0.2200 - val_accuracy: 0.9264\n"
          ],
          "name": "stdout"
        }
      ]
    },
    {
      "cell_type": "code",
      "metadata": {
        "id": "WjjSu4dbdGQ0",
        "colab_type": "code",
        "colab": {
          "base_uri": "https://localhost:8080/",
          "height": 35
        },
        "outputId": "12d15fad-9158-4dfc-cdb1-1d556ea082d5"
      },
      "source": [
        "# Check shape\n",
        "train_data_gen.image_shape"
      ],
      "execution_count": 13,
      "outputs": [
        {
          "output_type": "execute_result",
          "data": {
            "text/plain": [
              "(224, 224, 3)"
            ]
          },
          "metadata": {
            "tags": []
          },
          "execution_count": 13
        }
      ]
    },
    {
      "cell_type": "code",
      "metadata": {
        "id": "1rt0JEQFZPoi",
        "colab_type": "code",
        "colab": {
          "base_uri": "https://localhost:8080/",
          "height": 295
        },
        "outputId": "30694308-18cb-4063-9903-e2574e16e5d1"
      },
      "source": [
        "import matplotlib.pyplot as plt\n",
        "\n",
        "# Graph accuracy over time\n",
        "eps = range(len(history.history['accuracy']))\n",
        "plt.plot(eps, history.history['accuracy'], label='Train')\n",
        "plt.plot(eps, history.history['val_accuracy'], label='Test')\n",
        "\n",
        "plt.title('Accuracy over time')\n",
        "plt.xlabel('Epochs')\n",
        "plt.ylabel('Classification Accuracy')\n",
        "plt.legend()\n",
        "plt.show()\n"
      ],
      "execution_count": 14,
      "outputs": [
        {
          "output_type": "display_data",
          "data": {
            "image/png": "[encoded data removed]",
            "text/plain": [
              "<Figure size 432x288 with 1 Axes>"
            ]
          },
          "metadata": {
            "tags": [],
            "needs_background": "light"
          }
        }
      ]
    },
    {
      "cell_type": "markdown",
      "metadata": {
        "id": "_lGA5O6tJXip",
        "colab_type": "text"
      },
      "source": [
        "# Custom CNN Model\n",
        "\n",
        "In this step, write and train your own convolutional neural network using Keras. You can use any architecture that suits you as long as it has at least one convolutional and one pooling layer at the beginning of the network - you can add more if you want. "
      ]
    },
    {
      "cell_type": "code",
      "metadata": {
        "id": "TEqrUTVHJXip",
        "colab_type": "code",
        "colab": {
          "base_uri": "https://localhost:8080/",
          "height": 363
        },
        "outputId": "2d393584-5c52-4586-e7af-8064ce8f4450"
      },
      "source": [
        "from tensorflow.keras.models import Sequential\n",
        "from tensorflow.keras.layers import Conv2D, MaxPooling2D, Flatten, Dense\n",
        "\n",
        "# Define the Model\n",
        "model = Sequential()\n",
        "model.add(Conv2D(32, (3,3), activation='relu', \n",
        "                 input_shape=(IMG_HEIGHT,IMG_WIDTH,3)))\n",
        "model.add(MaxPooling2D((2,2)))\n",
        "model.add(Conv2D(64, (3,3), activation='relu'))\n",
        "model.add(Flatten())\n",
        "model.add(Dense(64, activation='relu'))\n",
        "model.add(Dense(1, activation='sigmoid'))\n",
        "\n",
        "model.summary()"
      ],
      "execution_count": 15,
      "outputs": [
        {
          "output_type": "stream",
          "text": [
            "Model: \"sequential\"\n",
            "_________________________________________________________________\n",
            "Layer (type)                 Output Shape              Param #   \n",
            "=================================================================\n",
            "conv2d (Conv2D)              (None, 222, 222, 32)      896       \n",
            "_________________________________________________________________\n",
            "max_pooling2d (MaxPooling2D) (None, 111, 111, 32)      0         \n",
            "_________________________________________________________________\n",
            "conv2d_1 (Conv2D)            (None, 109, 109, 64)      18496     \n",
            "_________________________________________________________________\n",
            "flatten (Flatten)            (None, 760384)            0         \n",
            "_________________________________________________________________\n",
            "dense_2 (Dense)              (None, 64)                48664640  \n",
            "_________________________________________________________________\n",
            "dense_3 (Dense)              (None, 1)                 65        \n",
            "=================================================================\n",
            "Total params: 48,684,097\n",
            "Trainable params: 48,684,097\n",
            "Non-trainable params: 0\n",
            "_________________________________________________________________\n"
          ],
          "name": "stdout"
        }
      ]
    },
    {
      "cell_type": "code",
      "metadata": {
        "id": "w8nBtrg8JXir",
        "colab_type": "code",
        "colab": {}
      },
      "source": [
        "# Compile Model\n",
        "# Compile Model\n",
        "model.compile(optimizer='adam',\n",
        "              loss='binary_crossentropy',\n",
        "              metrics=['accuracy'])"
      ],
      "execution_count": 0,
      "outputs": []
    },
    {
      "cell_type": "code",
      "metadata": {
        "id": "onXOXC0CJXit",
        "colab_type": "code",
        "colab": {
          "base_uri": "https://localhost:8080/",
          "height": 1000
        },
        "outputId": "f0210a31-b17d-4b90-f37a-e8887ee4f9f1"
      },
      "source": [
        "# Fit Model\n",
        "# Fit Model\n",
        "history = model.fit(train_data_gen, \n",
        "                    steps_per_epoch=total_train // batch_size, epochs=epochs, \n",
        "                    validation_data=val_data_gen,  \n",
        "                    validation_steps=total_val // batch_size\n",
        "                    )"
      ],
      "execution_count": 17,
      "outputs": [
        {
          "output_type": "stream",
          "text": [
            "Epoch 1/50\n",
            "32/32 [==============================] - 2s 77ms/step - loss: 2.7915 - accuracy: 0.5250 - val_loss: 0.6028 - val_accuracy: 0.7423\n",
            "Epoch 2/50\n",
            "32/32 [==============================] - 2s 73ms/step - loss: 0.4706 - accuracy: 0.8652 - val_loss: 0.5218 - val_accuracy: 0.9205\n",
            "Epoch 3/50\n",
            "32/32 [==============================] - 2s 72ms/step - loss: 0.3626 - accuracy: 0.9042 - val_loss: 0.1893 - val_accuracy: 0.9205\n",
            "Epoch 4/50\n",
            "32/32 [==============================] - 2s 72ms/step - loss: 0.2040 - accuracy: 0.9122 - val_loss: 0.2166 - val_accuracy: 0.9264\n",
            "Epoch 5/50\n",
            "32/32 [==============================] - 2s 72ms/step - loss: 0.1346 - accuracy: 0.9501 - val_loss: 0.1593 - val_accuracy: 0.9202\n",
            "Epoch 6/50\n",
            "32/32 [==============================] - 2s 69ms/step - loss: 0.0695 - accuracy: 0.9741 - val_loss: 0.2248 - val_accuracy: 0.9202\n",
            "Epoch 7/50\n",
            "32/32 [==============================] - 2s 69ms/step - loss: 0.1397 - accuracy: 0.9341 - val_loss: 0.4356 - val_accuracy: 0.8405\n",
            "Epoch 8/50\n",
            "32/32 [==============================] - 2s 69ms/step - loss: 0.0625 - accuracy: 0.9820 - val_loss: 0.3799 - val_accuracy: 0.8650\n",
            "Epoch 9/50\n",
            "32/32 [==============================] - 2s 70ms/step - loss: 0.0335 - accuracy: 0.9880 - val_loss: 0.4235 - val_accuracy: 0.9141\n",
            "Epoch 10/50\n",
            "32/32 [==============================] - 2s 71ms/step - loss: 0.0102 - accuracy: 0.9960 - val_loss: 0.1818 - val_accuracy: 0.9509\n",
            "Epoch 11/50\n",
            "32/32 [==============================] - 2s 75ms/step - loss: 0.0042 - accuracy: 1.0000 - val_loss: 0.4490 - val_accuracy: 0.8834\n",
            "Epoch 12/50\n",
            "32/32 [==============================] - 2s 70ms/step - loss: 0.0035 - accuracy: 1.0000 - val_loss: 0.2078 - val_accuracy: 0.9325\n",
            "Epoch 13/50\n",
            "32/32 [==============================] - 2s 69ms/step - loss: 0.0016 - accuracy: 1.0000 - val_loss: 0.3271 - val_accuracy: 0.9080\n",
            "Epoch 14/50\n",
            "32/32 [==============================] - 2s 69ms/step - loss: 5.9803e-04 - accuracy: 1.0000 - val_loss: 0.1860 - val_accuracy: 0.9387\n",
            "Epoch 15/50\n",
            "32/32 [==============================] - 2s 70ms/step - loss: 3.9205e-04 - accuracy: 1.0000 - val_loss: 0.2800 - val_accuracy: 0.9318\n",
            "Epoch 16/50\n",
            "32/32 [==============================] - 2s 70ms/step - loss: 3.0490e-04 - accuracy: 1.0000 - val_loss: 0.3255 - val_accuracy: 0.9318\n",
            "Epoch 17/50\n",
            "32/32 [==============================] - 2s 70ms/step - loss: 2.5348e-04 - accuracy: 1.0000 - val_loss: 0.2149 - val_accuracy: 0.9448\n",
            "Epoch 18/50\n",
            "32/32 [==============================] - 2s 70ms/step - loss: 1.7695e-04 - accuracy: 1.0000 - val_loss: 0.3028 - val_accuracy: 0.9325\n",
            "Epoch 19/50\n",
            "32/32 [==============================] - 2s 70ms/step - loss: 1.5793e-04 - accuracy: 1.0000 - val_loss: 0.2250 - val_accuracy: 0.9632\n",
            "Epoch 20/50\n",
            "32/32 [==============================] - 2s 72ms/step - loss: 1.5612e-04 - accuracy: 1.0000 - val_loss: 0.3242 - val_accuracy: 0.9387\n",
            "Epoch 21/50\n",
            "32/32 [==============================] - 2s 70ms/step - loss: 1.1691e-04 - accuracy: 1.0000 - val_loss: 0.5196 - val_accuracy: 0.9080\n",
            "Epoch 22/50\n",
            "32/32 [==============================] - 2s 69ms/step - loss: 8.9431e-05 - accuracy: 1.0000 - val_loss: 0.2314 - val_accuracy: 0.9509\n",
            "Epoch 23/50\n",
            "32/32 [==============================] - 2s 71ms/step - loss: 7.4176e-05 - accuracy: 1.0000 - val_loss: 0.4028 - val_accuracy: 0.9387\n",
            "Epoch 24/50\n",
            "32/32 [==============================] - 2s 71ms/step - loss: 7.8798e-05 - accuracy: 1.0000 - val_loss: 0.8048 - val_accuracy: 0.9202\n",
            "Epoch 25/50\n",
            "32/32 [==============================] - 2s 69ms/step - loss: 5.8246e-05 - accuracy: 1.0000 - val_loss: 0.2718 - val_accuracy: 0.9509\n",
            "Epoch 26/50\n",
            "32/32 [==============================] - 2s 70ms/step - loss: 5.3804e-05 - accuracy: 1.0000 - val_loss: 0.3886 - val_accuracy: 0.9202\n",
            "Epoch 27/50\n",
            "32/32 [==============================] - 2s 69ms/step - loss: 6.4333e-05 - accuracy: 1.0000 - val_loss: 0.6559 - val_accuracy: 0.9571\n",
            "Epoch 28/50\n",
            "32/32 [==============================] - 2s 69ms/step - loss: 3.5105e-05 - accuracy: 1.0000 - val_loss: 0.4192 - val_accuracy: 0.9318\n",
            "Epoch 29/50\n",
            "32/32 [==============================] - 2s 70ms/step - loss: 5.0079e-05 - accuracy: 1.0000 - val_loss: 0.3830 - val_accuracy: 0.9375\n",
            "Epoch 30/50\n",
            "32/32 [==============================] - 2s 69ms/step - loss: 2.9293e-05 - accuracy: 1.0000 - val_loss: 0.3708 - val_accuracy: 0.9509\n",
            "Epoch 31/50\n",
            "32/32 [==============================] - 2s 70ms/step - loss: 4.2043e-05 - accuracy: 1.0000 - val_loss: 0.2859 - val_accuracy: 0.9509\n",
            "Epoch 32/50\n",
            "32/32 [==============================] - 2s 70ms/step - loss: 2.9165e-05 - accuracy: 1.0000 - val_loss: 0.4315 - val_accuracy: 0.9264\n",
            "Epoch 33/50\n",
            "32/32 [==============================] - 2s 70ms/step - loss: 3.3722e-05 - accuracy: 1.0000 - val_loss: 0.4164 - val_accuracy: 0.9202\n",
            "Epoch 34/50\n",
            "32/32 [==============================] - 2s 69ms/step - loss: 2.9808e-05 - accuracy: 1.0000 - val_loss: 0.1828 - val_accuracy: 0.9571\n",
            "Epoch 35/50\n",
            "32/32 [==============================] - 2s 70ms/step - loss: 3.1481e-05 - accuracy: 1.0000 - val_loss: 0.6152 - val_accuracy: 0.9264\n",
            "Epoch 36/50\n",
            "32/32 [==============================] - 2s 70ms/step - loss: 2.4530e-05 - accuracy: 1.0000 - val_loss: 0.2236 - val_accuracy: 0.9387\n",
            "Epoch 37/50\n",
            "32/32 [==============================] - 2s 72ms/step - loss: 2.4909e-05 - accuracy: 1.0000 - val_loss: 0.3072 - val_accuracy: 0.9632\n",
            "Epoch 38/50\n",
            "32/32 [==============================] - 2s 70ms/step - loss: 2.0826e-05 - accuracy: 1.0000 - val_loss: 0.4733 - val_accuracy: 0.9325\n",
            "Epoch 39/50\n",
            "32/32 [==============================] - 2s 70ms/step - loss: 2.5630e-05 - accuracy: 1.0000 - val_loss: 0.4768 - val_accuracy: 0.9387\n",
            "Epoch 40/50\n",
            "32/32 [==============================] - 2s 69ms/step - loss: 2.1494e-05 - accuracy: 1.0000 - val_loss: 0.2974 - val_accuracy: 0.9387\n",
            "Epoch 41/50\n",
            "32/32 [==============================] - 2s 70ms/step - loss: 1.9838e-05 - accuracy: 1.0000 - val_loss: 0.3469 - val_accuracy: 0.9432\n",
            "Epoch 42/50\n",
            "32/32 [==============================] - 2s 70ms/step - loss: 1.3161e-05 - accuracy: 1.0000 - val_loss: 0.3817 - val_accuracy: 0.9432\n",
            "Epoch 43/50\n",
            "32/32 [==============================] - 2s 69ms/step - loss: 1.8872e-05 - accuracy: 1.0000 - val_loss: 0.3619 - val_accuracy: 0.9448\n",
            "Epoch 44/50\n",
            "32/32 [==============================] - 2s 69ms/step - loss: 1.6658e-05 - accuracy: 1.0000 - val_loss: 0.3888 - val_accuracy: 0.9264\n",
            "Epoch 45/50\n",
            "32/32 [==============================] - 2s 69ms/step - loss: 1.5640e-05 - accuracy: 1.0000 - val_loss: 0.3144 - val_accuracy: 0.9509\n",
            "Epoch 46/50\n",
            "32/32 [==============================] - 2s 70ms/step - loss: 1.8288e-05 - accuracy: 1.0000 - val_loss: 0.4510 - val_accuracy: 0.9202\n",
            "Epoch 47/50\n",
            "32/32 [==============================] - 2s 70ms/step - loss: 1.2900e-05 - accuracy: 1.0000 - val_loss: 0.2819 - val_accuracy: 0.9448\n",
            "Epoch 48/50\n",
            "32/32 [==============================] - 2s 70ms/step - loss: 1.3896e-05 - accuracy: 1.0000 - val_loss: 0.4852 - val_accuracy: 0.9202\n",
            "Epoch 49/50\n",
            "32/32 [==============================] - 2s 69ms/step - loss: 1.2291e-05 - accuracy: 1.0000 - val_loss: 0.3714 - val_accuracy: 0.9448\n",
            "Epoch 50/50\n",
            "32/32 [==============================] - 2s 70ms/step - loss: 1.3974e-05 - accuracy: 1.0000 - val_loss: 0.3138 - val_accuracy: 0.9509\n"
          ],
          "name": "stdout"
        }
      ]
    },
    {
      "cell_type": "code",
      "metadata": {
        "colab_type": "code",
        "outputId": "aa72a52a-6f7f-4233-a813-fd09a2f374e0",
        "id": "UlHUNzIg0grX",
        "colab": {
          "base_uri": "https://localhost:8080/",
          "height": 295
        }
      },
      "source": [
        "import matplotlib.pyplot as plt\n",
        "\n",
        "# Graph accuracy over time\n",
        "eps = range(len(history.history['accuracy']))\n",
        "plt.plot(eps, history.history['accuracy'], label='Train')\n",
        "plt.plot(eps, history.history['val_accuracy'], label='Test')\n",
        "\n",
        "plt.title('Accuracy over time')\n",
        "plt.xlabel('Epochs')\n",
        "plt.ylabel('Classification Accuracy')\n",
        "plt.legend()\n",
        "plt.show()\n"
      ],
      "execution_count": 18,
      "outputs": [
        {
          "output_type": "display_data",
          "data": {
            "image/png": "[encoded data removed]",
            "text/plain": [
              "<Figure size 432x288 with 1 Axes>"
            ]
          },
          "metadata": {
            "tags": [],
            "needs_background": "light"
          }
        }
      ]
    },
    {
      "cell_type": "markdown",
      "metadata": {
        "id": "6eTbsSXgJXiv",
        "colab_type": "text"
      },
      "source": [
        "# Custom CNN Model with Image Manipulations\n",
        "\n",
        "To simulate an increase in a sample of image, you can apply image manipulation techniques: cropping, rotation, stretching, etc. Luckily Keras has some handy functions for us to apply these techniques to our mountain and forest example. Simply, you should be able to modify our image generator for the problem. Check out these resources to help you get started: \n",
        "\n",
        "1. [Keras `ImageGenerator` Class](https://keras.io/preprocessing/image/#imagedatagenerator-class)\n",
        "2. [Building a powerful image classifier with very little data](https://blog.keras.io/building-powerful-image-classification-models-using-very-little-data.html)\n",
        " "
      ]
    },
    {
      "cell_type": "code",
      "metadata": {
        "id": "UZQCdF0eJXiv",
        "colab_type": "code",
        "colab": {}
      },
      "source": [
        "# State Code for Image Manipulation Here"
      ],
      "execution_count": 0,
      "outputs": []
    },
    {
      "cell_type": "markdown",
      "metadata": {
        "colab_type": "text",
        "id": "uT3UV3gap9H6"
      },
      "source": [
        "# Resources and Stretch Goals\n",
        "\n",
        "Stretch goals\n",
        "- Enhance your code to use classes/functions and accept terms to search and classes to look for in recognizing the downloaded images (e.g. download images of parties, recognize all that contain balloons)\n",
        "- Check out [other available pretrained networks](https://tfhub.dev), try some and compare\n",
        "- Image recognition/classification is somewhat solved, but *relationships* between entities and describing an image is not - check out some of the extended resources (e.g. [Visual Genome](https://visualgenome.org/)) on the topic\n",
        "- Transfer learning - using images you source yourself, [retrain a classifier](https://www.tensorflow.org/hub/tutorials/image_retraining) with a new category\n",
        "- (Not CNN related) Use [piexif](https://pypi.org/project/piexif/) to check out the metadata of images passed in to your system - see if they're from a national park! (Note - many images lack GPS metadata, so this won't work in most cases, but still cool)\n",
        "\n",
        "Resources\n",
        "- [Deep Residual Learning for Image Recognition](https://arxiv.org/abs/1512.03385) - influential paper (introduced ResNet)\n",
        "- [YOLO: Real-Time Object Detection](https://pjreddie.com/darknet/yolo/) - an influential convolution based object detection system, focused on inference speed (for applications to e.g. self driving vehicles)\n",
        "- [R-CNN, Fast R-CNN, Faster R-CNN, YOLO](https://towardsdatascience.com/r-cnn-fast-r-cnn-faster-r-cnn-yolo-object-detection-algorithms-36d53571365e) - comparison of object detection systems\n",
        "- [Common Objects in Context](http://cocodataset.org/) - a large-scale object detection, segmentation, and captioning dataset\n",
        "- [Visual Genome](https://visualgenome.org/) - a dataset, a knowledge base, an ongoing effort to connect structured image concepts to language"
      ]
    }
  ]
}